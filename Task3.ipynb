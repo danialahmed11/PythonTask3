{
 "cells": [
  {
   "cell_type": "markdown",
   "id": "522926b5-a5dd-4909-8929-d0cb2be4e792",
   "metadata": {},
   "source": [
    "# Answer 1"
   ]
  },
  {
   "cell_type": "code",
   "execution_count": 1,
   "id": "8a11c389-ba42-4a59-8b96-528ca5d71c54",
   "metadata": {},
   "outputs": [
    {
     "name": "stdin",
     "output_type": "stream",
     "text": [
      "Enter your age:  18\n",
      "Enter your credit score:  5\n",
      "Enter your annual income:  200\n"
     ]
    },
    {
     "name": "stdout",
     "output_type": "stream",
     "text": [
      "Not eligible for a loan: Credit score must be at least 650.\n"
     ]
    }
   ],
   "source": [
    "def check_loan_eligibility(age, credit_score, annual_income):\n",
    "    if age < 18:\n",
    "        return \"You are not eligible for a loan: Must be 18 years or older.\"\n",
    "    if credit_score >= 700:\n",
    "        if annual_income >= 25000:\n",
    "            return \"You are eligible for a loan.\"\n",
    "        else:\n",
    "            return \"You are not eligible for a loan: Income must be at least $25,000 for a credit score of 700 or higher.\"\n",
    "    elif credit_score >= 650:\n",
    "        if annual_income >= 30000:\n",
    "            return \"You are eligible for a loan.\"\n",
    "        else:\n",
    "            return \"You are not eligible for a loan: Income must be at least $30,000 for a credit score between 650 and 699.\"\n",
    "    else:\n",
    "        return \"Not eligible for a loan: Credit score must be at least 650.\"\n",
    "age = int(input(\"Enter your age: \"))\n",
    "credit_score = int(input(\"Enter your credit score: \"))\n",
    "annual_income = int(input(\"Enter your annual income: \"))\n",
    "\n",
    "result = check_loan_eligibility(age, credit_score, annual_income)\n",
    "print(result)"
   ]
  },
  {
   "cell_type": "markdown",
   "id": "fde0fb59-2947-4057-a6f2-1de7bcb2f8b9",
   "metadata": {},
   "source": [
    "# Answer 2"
   ]
  },
  {
   "cell_type": "code",
   "execution_count": 2,
   "id": "0b7b2d74-c0a3-49b7-8149-fef50bde6de3",
   "metadata": {},
   "outputs": [
    {
     "name": "stdin",
     "output_type": "stream",
     "text": [
      "Enter your age:  20\n",
      "Enter years of experience:  10\n"
     ]
    },
    {
     "name": "stdout",
     "output_type": "stream",
     "text": [
      "You have a lot of experience.\n"
     ]
    }
   ],
   "source": [
    "## def adulthoodandexperience():\n",
    "    age = int(input(\"Enter your age: \"))\n",
    "    if age < 18:\n",
    "        print(\"You are underage.\")\n",
    "    else:\n",
    "        experience = int(input(\"Enter years of experience: \"))\n",
    "        if experience >= 10:\n",
    "            print(\"You have a lot of experience.\")\n",
    "        elif 5 <= experience <= 9:\n",
    "            print(\"You have moderate experience.\")\n",
    "        elif 2 <= experience <= 4:\n",
    "            print(\"You are relatively new.\")\n",
    "        else:\n",
    "            print(\"You are just starting out.\")\n",
    "adulthoodandexperience()"
   ]
  },
  {
   "cell_type": "markdown",
   "id": "ab6e7692-1d95-43e1-995a-2af13e2da23e",
   "metadata": {},
   "source": [
    "# Answer 3"
   ]
  },
  {
   "cell_type": "code",
   "execution_count": 3,
   "id": "2a6dbb23-cedd-4a48-a8e0-56c6b2686f1e",
   "metadata": {},
   "outputs": [
    {
     "name": "stdout",
     "output_type": "stream",
     "text": [
      "Variable Analysis:\n",
      "-----------\n",
      "List:\n",
      "  Memory Address: 1997141655936\n",
      "  Memory Size: 88 bytes\n",
      "\n",
      "Integer:\n",
      "  Memory Address: 140712901228056\n",
      "  Memory Size: 28 bytes\n",
      "\n",
      "String:\n",
      "  Memory Address: 1997141880304\n",
      "  Memory Size: 58 bytes\n",
      "\n",
      "Float:\n",
      "  Memory Address: 1997140405776\n",
      "  Memory Size: 24 bytes\n",
      "\n",
      "Boolean:\n",
      "  Memory Address: 140712900098944\n",
      "  Memory Size: 28 bytes\n",
      "\n",
      "Dictionary:\n",
      "  Memory Address: 1997141909248\n",
      "  Memory Size: 184 bytes\n",
      "\n",
      "Tuple:\n",
      "  Memory Address: 1997141782528\n",
      "  Memory Size: 64 bytes\n",
      "\n",
      "Set:\n",
      "  Memory Address: 1997141486816\n",
      "  Memory Size: 216 bytes\n",
      "\n",
      "Final Analysis:\n",
      "-----------\n",
      "The data type with the least memory size is 'float' with 24 bytes.\n"
     ]
    }
   ],
   "source": [
    "import sys\n",
    "def explorevariables():\n",
    "    variables = [\n",
    "        (\"list\", [1, 2, 3, 4]),\n",
    "        (\"integer\", 100),\n",
    "        (\"string\", \"My name is danial\"),\n",
    "        (\"float\", 20.20),\n",
    "        (\"boolean\", True),\n",
    "        (\"dictionary\", {\"key\": \"value\"}),\n",
    "        (\"tuple\", (1, 2, 3)),\n",
    "        (\"set\", {1, 2, 3}),\n",
    "    ]\n",
    "\n",
    "    memory_sizes = []  \n",
    "\n",
    "    print(\"Variable Analysis:\")\n",
    "    print(\"-----------\")\n",
    "    for var_name, var_value in variables:\n",
    "        memory_address = id(var_value)\n",
    "        memory_size = sys.getsizeof(var_value)\n",
    "        memory_sizes.append((var_name, memory_size))\n",
    "\n",
    "        print(f\"{var_name.capitalize()}:\\n  Memory Address: {memory_address}\\n  Memory Size: {memory_size} bytes\\n\")\n",
    "    least_memory_var = min(memory_sizes, key=lambda x: x[1])\n",
    "    print(\"Final Analysis:\")\n",
    "    print(\"-----------\")\n",
    "    print(f\"The data type with the least memory size is '{least_memory_var[0]}' with {least_memory_var[1]} bytes.\")\n",
    "\n",
    "explorevariables()"
   ]
  },
  {
   "cell_type": "markdown",
   "id": "4b958a3d-732e-418b-a3fe-db8b9dc8eeee",
   "metadata": {},
   "source": [
    "# Answer 4"
   ]
  },
  {
   "cell_type": "code",
   "execution_count": 4,
   "id": "19a17046-9a22-4c0c-884d-cdf81ae48684",
   "metadata": {},
   "outputs": [
    {
     "name": "stdin",
     "output_type": "stream",
     "text": [
      "Enter your email address:  danial.hilal.278@gmail.com\n"
     ]
    },
    {
     "name": "stdout",
     "output_type": "stream",
     "text": [
      "Email format is valid.\n"
     ]
    }
   ],
   "source": [
    "def validateemail():\n",
    "    email = input(\"Enter your email address: \")\n",
    "    if \"@\" in email and \".\" in email:\n",
    "        print(\"Email format is valid.\")\n",
    "    else:\n",
    "        print(\"Invalid email format.\")\n",
    "validateemail()"
   ]
  },
  {
   "cell_type": "markdown",
   "id": "80ad8db2-6913-4079-b0e0-b79c2f5912ed",
   "metadata": {},
   "source": [
    "# Answer 5"
   ]
  },
  {
   "cell_type": "code",
   "execution_count": 5,
   "id": "c1650721-e21b-4365-bcf6-fdc6099bc6e1",
   "metadata": {},
   "outputs": [
    {
     "name": "stdout",
     "output_type": "stream",
     "text": [
      "Data types of tuple elements: [<class 'int'>, <class 'float'>, <class 'str'>, <class 'list'>, <class 'tuple'>]\n"
     ]
    }
   ],
   "source": [
    "x = (11, 22.333, 'apple', [1, 2, 3], ('a', 'b'))\n",
    "\n",
    "data_types = []\n",
    "for element in x:\n",
    "    data_types.append(type(element))\n",
    "print(\"Data types of tuple elements:\", data_types)\n"
   ]
  },
  {
   "cell_type": "markdown",
   "id": "a9dbc756-c0c1-4ab6-93bb-fc026720d1b0",
   "metadata": {},
   "source": [
    "# Answer 6"
   ]
  },
  {
   "cell_type": "code",
   "execution_count": 6,
   "id": "b94d38f0-d4a7-4f0d-af4d-e5728404163e",
   "metadata": {},
   "outputs": [
    {
     "name": "stdout",
     "output_type": "stream",
     "text": [
      "Username 'alice' found.\n",
      "alice == the admin.\n",
      "Username 'bob' found.\n",
      "bob is not the admin. They are a user.\n",
      "Username 'dave' does not exist.\n"
     ]
    }
   ],
   "source": [
    "activeusers = [(\"alice\", \"admin\"),(\"bob\", \"user\"),(\"charlie\", \"moderator\")]\n",
    "\n",
    "def checkuser(username):\n",
    "    for user, role in activeusers:\n",
    "        if user == username:\n",
    "            print(f\"Username '{username}' found.\")\n",
    "            if (user, role) == (\"alice\", \"admin\"):\n",
    "                print(f\"{username} == the admin.\")\n",
    "            else:\n",
    "                print(f\"{username} is not the admin. They are a {role}.\")\n",
    "            break\n",
    "    else:\n",
    "        print(f\"Username '{username}' does not exist.\")\n",
    "checkuser(\"alice\") \n",
    "checkuser(\"bob\")  \n",
    "checkuser(\"dave\")  \n"
   ]
  },
  {
   "cell_type": "markdown",
   "id": "2b2e376f-dd6f-4926-9fd3-9ab1a3b547b8",
   "metadata": {},
   "source": [
    "# Answer 7"
   ]
  },
  {
   "cell_type": "code",
   "execution_count": 7,
   "id": "93da314a-5f94-4e0c-845b-894990a17df3",
   "metadata": {},
   "outputs": [
    {
     "name": "stdout",
     "output_type": "stream",
     "text": [
      "Person1 and Person2 are Siblings\n",
      "Person1 and Person3 are Cousins\n"
     ]
    }
   ],
   "source": [
    "person1 = ('John', 'Jane', 'New York', '1234')\n",
    "person2 = ('John', 'Jane', 'New York', '1234')\n",
    "person3 = ('Mike', 'Alice', 'Los Angeles', '5678')\n",
    "\n",
    "if person1[0:3] == person2[0:3]:\n",
    "    print(\"Person1 and Person2 are Siblings\")\n",
    "    \n",
    "if person1[0:3] != person3[0:3]:\n",
    "    print(\"Person1 and Person3 are Cousins\")\n"
   ]
  },
  {
   "cell_type": "markdown",
   "id": "9778e909-1391-42b3-aacf-30cded5dcedd",
   "metadata": {},
   "source": [
    "# Answer 8"
   ]
  },
  {
   "cell_type": "code",
   "execution_count": 8,
   "id": "82b37f59-e4fb-45c8-bb5e-8ce39b49f810",
   "metadata": {},
   "outputs": [
    {
     "name": "stdin",
     "output_type": "stream",
     "text": [
      "Enter the book title:  ABC\n",
      "Enter the book author:  AA\n",
      "Enter the year of publication:  1990\n",
      "Enter the book price:  20\n"
     ]
    },
    {
     "name": "stdout",
     "output_type": "stream",
     "text": [
      "Book Information\n",
      "Title: ABC\n",
      "Author: AA\n",
      "Year of Publication: 1990\n",
      "Price: 20\n"
     ]
    }
   ],
   "source": [
    "title = input(\"Enter the book title: \")\n",
    "author = input(\"Enter the book author: \")\n",
    "year = input(\"Enter the year of publication: \")\n",
    "price = input(\"Enter the book price: \")\n",
    "\n",
    "book_info = (title, author, year, price)\n",
    "\n",
    "print(\"Book Information\")\n",
    "print(f\"Title: {book_info[0]}\")\n",
    "print(f\"Author: {book_info[1]}\")\n",
    "print(f\"Year of Publication: {book_info[2]}\")\n",
    "print(f\"Price: {book_info[3]}\")\n"
   ]
  },
  {
   "cell_type": "markdown",
   "id": "14173385-e06b-4895-bd0a-82c1176741f7",
   "metadata": {},
   "source": [
    "# Answer 9"
   ]
  },
  {
   "cell_type": "code",
   "execution_count": 9,
   "id": "7bc8f63e-bb8c-4d0b-9fad-6154902bc9ca",
   "metadata": {},
   "outputs": [
    {
     "name": "stdin",
     "output_type": "stream",
     "text": [
      "Enter the subject you want to check:  History\n"
     ]
    },
    {
     "name": "stdout",
     "output_type": "stream",
     "text": [
      "History is available.\n"
     ]
    }
   ],
   "source": [
    "offered_subjects = ['Math', 'Science', 'History', 'Literature', 'Art']\n",
    "chosen_subject = input(\"Enter the subject you want to check: \")\n",
    "\n",
    "if chosen_subject in offered_subjects:\n",
    "    print(f\"{chosen_subject} is available.\")\n",
    "else:\n",
    "    print(f\"{chosen_subject} is not available.\")\n"
   ]
  },
  {
   "cell_type": "markdown",
   "id": "e8816adc-7610-47f5-bf70-83de3dc2b305",
   "metadata": {},
   "source": [
    "# Answer 10"
   ]
  },
  {
   "cell_type": "code",
   "execution_count": 10,
   "id": "67c59494-68f1-477d-bb1b-cd01ba32731e",
   "metadata": {},
   "outputs": [
    {
     "name": "stdin",
     "output_type": "stream",
     "text": [
      "Enter a number to find its index:  6\n"
     ]
    },
    {
     "name": "stdout",
     "output_type": "stream",
     "text": [
      "6 is not in the tuple.\n"
     ]
    },
    {
     "name": "stdin",
     "output_type": "stream",
     "text": [
      "Enter a number to count its occurrences:  2\n"
     ]
    },
    {
     "name": "stdout",
     "output_type": "stream",
     "text": [
      "2 appears 0 times in the tuple.\n"
     ]
    }
   ],
   "source": [
    "numbers_tuple = (5, 3, 7, 3, 9, 3, 7, 5)\n",
    "num1 = int(input(\"Enter a number to find its index: \"))\n",
    "if num1 in numbers_tuple:\n",
    "    print(f\"The index of {num1} is {numbers_tuple.index(num1)}.\")\n",
    "else:\n",
    "    print(f\"{num1} is not in the tuple.\")\n",
    "\n",
    "num2 = int(input(\"Enter a number to count its occurrences: \"))\n",
    "count = numbers_tuple.count(num2)\n",
    "print(f\"{num2} appears {count} times in the tuple.\")\n"
   ]
  },
  {
   "cell_type": "markdown",
   "id": "7db2b781-5a29-482f-b21b-a867c04bdf59",
   "metadata": {},
   "source": [
    "# Extra Question"
   ]
  },
  {
   "cell_type": "code",
   "execution_count": 11,
   "id": "bf9e76de-c9a0-4910-9655-59ab149ef139",
   "metadata": {},
   "outputs": [
    {
     "name": "stdin",
     "output_type": "stream",
     "text": [
      "Enter the current temperature in Celsius:  50\n"
     ]
    },
    {
     "name": "stdout",
     "output_type": "stream",
     "text": [
      "The temperature is extremely hot!\n"
     ]
    }
   ],
   "source": [
    "freezing_point = -5\n",
    "normal_temperature = 25\n",
    "hot_temperature = 40\n",
    "\n",
    "current_temperature = float(input(\"Enter the current temperature in Celsius: \"))\n",
    "\n",
    "if current_temperature <= freezing_point:\n",
    "    print(\"It's freezing!\")\n",
    "elif freezing_point < current_temperature <= normal_temperature:\n",
    "    print(\"The temperature is normal.\")\n",
    "elif current_temperature > normal_temperature and current_temperature <= hot_temperature:\n",
    "    print(\"It's hot!\")\n",
    "else:\n",
    "    print(\"The temperature is extremely hot!\")\n"
   ]
  },
  {
   "cell_type": "code",
   "execution_count": null,
   "id": "07ba55ce-fff9-4514-86fb-79574f4ad857",
   "metadata": {},
   "outputs": [],
   "source": []
  },
  {
   "cell_type": "code",
   "execution_count": null,
   "id": "8929d34e-29e5-4bf0-afae-14a6673725d8",
   "metadata": {},
   "outputs": [],
   "source": []
  },
  {
   "cell_type": "code",
   "execution_count": null,
   "id": "22b6c220-9823-4549-b897-93a4f1d1e474",
   "metadata": {},
   "outputs": [],
   "source": []
  }
 ],
 "metadata": {
  "kernelspec": {
   "display_name": "Python 3 (ipykernel)",
   "language": "python",
   "name": "python3"
  },
  "language_info": {
   "codemirror_mode": {
    "name": "ipython",
    "version": 3
   },
   "file_extension": ".py",
   "mimetype": "text/x-python",
   "name": "python",
   "nbconvert_exporter": "python",
   "pygments_lexer": "ipython3",
   "version": "3.12.7"
  }
 },
 "nbformat": 4,
 "nbformat_minor": 5
}
